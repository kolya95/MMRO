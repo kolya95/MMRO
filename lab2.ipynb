{
 "cells": [
  {
   "cell_type": "markdown",
   "metadata": {},
   "source": [
    "# Лабораторная работа 2. Решающие деревья и случайные леса."
   ]
  },
  {
   "cell_type": "markdown",
   "metadata": {},
   "source": [
    "ФИО: Попов Николай Олегович\n",
    "\n",
    "Группа: 517"
   ]
  },
  {
   "cell_type": "code",
   "execution_count": 1,
   "metadata": {
    "collapsed": true
   },
   "outputs": [],
   "source": [
    "import numpy as np"
   ]
  },
  {
   "cell_type": "code",
   "execution_count": 2,
   "metadata": {
    "collapsed": true
   },
   "outputs": [],
   "source": [
    "from matplotlib import pyplot as plt\n",
    "%matplotlib inline"
   ]
  },
  {
   "cell_type": "code",
   "execution_count": 3,
   "metadata": {
    "collapsed": true
   },
   "outputs": [],
   "source": [
    "import pandas as pd\n",
    "from sklearn.linear_model import LinearRegression\n",
    "from sklearn.ensemble import RandomForestRegressor, GradientBoostingRegressor"
   ]
  },
  {
   "cell_type": "markdown",
   "metadata": {},
   "source": [
    "### I. Решающие деревья своими руками\n",
    "#### Задача 1.\n",
    "В этой части вам нужно реализовать свой класс для обучения решающего дерева в задаче бинарной классификации с возможностью обработки вещественных и категориальных признаков."
   ]
  },
  {
   "cell_type": "markdown",
   "metadata": {},
   "source": [
    "__1__\n",
    "\n",
    "Реализуйте следующую функцию:"
   ]
  },
  {
   "cell_type": "code",
   "execution_count": 4,
   "metadata": {
    "collapsed": true
   },
   "outputs": [],
   "source": [
    "def find_best_split(feature_vector, target_vector):\n",
    "    n = len(feature_vector)\n",
    "    assert len(feature_vector) == len(target_vector)\n",
    "    \n",
    "    sort_index = feature_vector.argsort()\n",
    "    feature_vector = feature_vector[sort_index]\n",
    "    target_vector = target_vector[sort_index]\n",
    "    \n",
    "    \n",
    "    _, thresholds_index = np.unique(feature_vector, return_index=True)\n",
    "    if len(_) <= 1:\n",
    "        raise \"CONSTANT FEATURE ALARM\"\n",
    "    \n",
    "    thresholds_index = thresholds_index[1:]-1\n",
    "    \n",
    "    ones_cs = np.cumsum(target_vector)[thresholds_index]\n",
    "    zeros_cs = np.cumsum(1 - target_vector)[thresholds_index]\n",
    "    \n",
    "    \n",
    "    a , thresholds_index_reversed = np.unique(feature_vector[::-1], return_index=True)\n",
    "    thresholds_index_reversed = thresholds_index_reversed[:-1]-1\n",
    "    reverse_ones_cs = np.cumsum(target_vector[::-1])[thresholds_index_reversed]\n",
    "    reverse_zeros_cs = np.cumsum(1 - target_vector[::-1])[thresholds_index_reversed]\n",
    "\n",
    "    \n",
    "    H_L = 1 - (ones_cs/(ones_cs+zeros_cs))**2 - (zeros_cs/(ones_cs+zeros_cs))**2\n",
    "    H_R =  1 - (reverse_ones_cs/(reverse_ones_cs+reverse_zeros_cs))**2 - (reverse_zeros_cs/(reverse_ones_cs+reverse_zeros_cs))**2\n",
    "    \n",
    "    \n",
    "    i = np.linspace(1/n, 1, n)[thresholds_index]\n",
    "    Q = - i*H_L - (1-i)*H_R\n",
    "    \n",
    "    opt_index = Q.argmax()\n",
    "    \n",
    "    \n",
    "    return feature_vector[thresholds_index], Q, feature_vector[thresholds_index][opt_index], Q[opt_index]"
   ]
  },
  {
   "cell_type": "markdown",
   "metadata": {},
   "source": [
    "Параметры:\n",
    "* feature_vector: вещественнозначный вектор значений признака (np.array)\n",
    "* target_vector: вектор классов объектов (np.array). len(feature_vector)==len(target_vector).\n",
    "\n",
    "Возвращаемые значения:\n",
    "* thresholds: отсортированный по возрастанию вектор со всеми возможными порогами, по которым объекты можно разделить на две различные подвыборки, или поддерева (np.array)\n",
    "* ginis: вектор со значениями критерия Джини для каждого из порогов в thresholds. (np.array, len(ginis)==len(thresholds))\n",
    "* оптимальный порог (число)\n",
    "* оптимальное значение критерия Джини (число)\n",
    "\n",
    "Под критерием Джини здесь подразумевается следующая функция:\n",
    "$$Q(R) = -\\frac {|R_l|}{|R|}H(R_l) -\\frac {|R_r|}{|R|}H(R_r),$$\n",
    "$R$ - множество объектов, $R_l$ и $R_r$ - объекты, попавшие в левое и правое поддерево, $H(R) = 1-p_1^2-p_0^2$, $p_1$, $p_0$ - доля объектов класса 1 и 0 соответственно.\n",
    "\n",
    "Указания:\n",
    "* Пороги, приводящие к попаданию в одно из поддеревьев пустого множества объектов, не рассматриваются.\n",
    "* За наличие в функции циклов балл будет снижен. Векторизуйте! :)"
   ]
  },
  {
   "cell_type": "markdown",
   "metadata": {},
   "source": [
    "__2__\n",
    "Загрузите таблицу [students.csv](https://drive.google.com/file/d/0B2zoFVYw1rN3a0d0Zm43TzQ4aUU/view?usp=sharing) (это немного преобразованный датасет [User Knowledge](https://archive.ics.uci.edu/ml/datasets/User+Knowledge+Modeling)). В ней признаки объекта записаны в первых пяти столбцах,а в последнем записана целевая переменная (класс: 0 или 1). Постройте на одном изображении пять кривых \"порог - значение критерия Джини\" для всех пяти признаков. Отдельно визуализируйте scatter-графики \"значение признака - класс\" для всех пяти признаков."
   ]
  },
  {
   "cell_type": "code",
   "execution_count": 5,
   "metadata": {
    "collapsed": true
   },
   "outputs": [],
   "source": [
    "### ╰( ͡° ͜ʖ ͡° )つ──☆*:・ﾟ\n",
    "students = pd.read_csv('students.csv')"
   ]
  },
  {
   "cell_type": "code",
   "execution_count": 7,
   "metadata": {
    "collapsed": false
   },
   "outputs": [
    {
     "name": "stdout",
     "output_type": "stream",
     "text": [
      "0.61 -0.453977075044 STG\n",
      "0.42 -0.46501949804 SCG\n",
      "0.36 -0.467338294455 STR\n",
      "0.38 -0.454668319293 LPR\n",
      "0.33 -0.0860656027491 PEG\n"
     ]
    },
    {
     "data": {
      "text/plain": [
       "<matplotlib.text.Text at 0x10da64518>"
      ]
     },
     "execution_count": 7,
     "metadata": {},
     "output_type": "execute_result"
    },
    {
     "data": {
      "image/png": "[encoded data removed]",
      "text/plain": [
       "<matplotlib.figure.Figure at 0x10cdff438>"
      ]
     },
     "metadata": {},
     "output_type": "display_data"
    }
   ],
   "source": [
    "fig = plt.figure(num=None, figsize=(10, 10), dpi=80, facecolor='w', edgecolor='k')\n",
    "\n",
    "\n",
    "for i in students.columns[:-1]:\n",
    "    a,b,c,d = find_best_split(np.array(students[i]), np.array(students[' UNS']))\n",
    "    print(c,d,i)\n",
    "    plt.plot( a, b, '-o', lw=2,label = i)\n",
    "\n",
    "plt.legend( loc='best', fontsize = 15)\n",
    "plt.xlabel('split value', fontsize= 15)\n",
    "plt.ylabel('criterion', fontsize=21)"
   ]
  },
  {
   "cell_type": "code",
   "execution_count": 9,
   "metadata": {
    "collapsed": false
   },
   "outputs": [
    {
     "data": {
      "image/png": "[encoded data removed]",
      "text/plain": [
       "<matplotlib.figure.Figure at 0x10dc16ef0>"
      ]
     },
     "metadata": {},
     "output_type": "display_data"
    },
    {
     "data": {
      "image/png": "[encoded data removed]",
      "text/plain": [
       "<matplotlib.figure.Figure at 0x10e733668>"
      ]
     },
     "metadata": {},
     "output_type": "display_data"
    },
    {
     "data": {
      "image/png": "[encoded data removed]",
      "text/plain": [
       "<matplotlib.figure.Figure at 0x10dff6f98>"
      ]
     },
     "metadata": {},
     "output_type": "display_data"
    },
    {
     "data": {
      "image/png": "[encoded data removed]",
      "text/plain": [
       "<matplotlib.figure.Figure at 0x10e016dd8>"
      ]
     },
     "metadata": {},
     "output_type": "display_data"
    },
    {
     "data": {
      "image/png": "[encoded data removed]",
      "text/plain": [
       "<matplotlib.figure.Figure at 0x10e8fb128>"
      ]
     },
     "metadata": {},
     "output_type": "display_data"
    }
   ],
   "source": [
    "for i in students.columns[:-1]:\n",
    "    fig = plt.figure(num=None, figsize=(10, 10), dpi=80, facecolor='w', edgecolor='k')\n",
    "    plt.plot( students[i], students[' UNS'], 'o', lw=2,label = i)\n",
    "\n",
    "    plt.legend( loc='best', fontsize = 15)\n",
    "    plt.xlabel('value', fontsize= 15)\n",
    "    plt.ylabel('class ', fontsize=21)\n",
    "    plt.show()"
   ]
  },
  {
   "cell_type": "markdown",
   "metadata": {},
   "source": [
    "__3__\n",
    "\n",
    "Исходя из кривых значений критерия Джини, по какому признаку нужно производить деление выборки на два поддерева? Согласуется ли этот результат с визуальной оценкой scatter-графиков? Как бы охарактеризовали вид кривой для \"хороших\" признаков, по которым выборка делится почти идеально? Чем отличаются кривые для признаков, по которым деление практически невозможно?"
   ]
  },
  {
   "cell_type": "markdown",
   "metadata": {},
   "source": [
    "исходя из кривых значений критерия Джини по признаку PEG оптимальное деление на два поддерева, что согласуется с визуальной оценкой scatter-графиков, по этому признаку классы разделяются почти идеально.\n",
    "Кривые для этих признаков унимодальные.\n",
    "Для плохих признаков нет одного явно выраженного максимума"
   ]
  },
  {
   "cell_type": "markdown",
   "metadata": {},
   "source": [
    "__4__\n",
    "\n",
    "Реализуйте класс для обучения решающих деревьев. Мы не будем усложнять класс множеством параметров, как в sklearn. Требования к классу:\n",
    "* Единственный параметр дерева - вектор, задающий типы признаков: если в позиции i стоит 0, то с признаком номер i нужно работать как с вещественным, если 1 - как с категориальным.\n",
    "* Чтобы классификатор \"распознавался\" функциями sklearn, необходимо наследовать его от BaseEstimator. \n",
    "* У класса должно быть реализовано два метода: fit и predict. Метод fit принимает на вход двумерный np.array - матрицу объекты-признаки и одномерный вектор ответов y, внутри метода происходит обучение дерева. Метод predict принимает на вход двумерную матрицу объекты-признаки (np.array) и возвращает вектор предсказанных классов (одномерный np.array) для всех объектов.\n",
    "* Построение дерева должно осуществляться согласно базовому жадному алгоритму. Выбор лучшего разбиения необходимо производить по критерию Джини. Критерий останова: все объекты в листе относятся к одному классу. Ответ в листе: класс объектов, находящихся в нем. Для категориальных признаков необходимо выполнить преобразование, описанное на [семинаре](https://github.com/esokolov/ml-course-msu/blob/master/ML16/lecture-notes/Sem04_trees.pdf) в разделе \"Учет категориальных признаков\".\n",
    "\n",
    "Далее будут даны рекомендации по реализации решающего дерева. Им следовать необязательно: например, вы можете использовать свою структуру для хранения дерева.\n",
    "* Дерево можно хранить в виде сложенных списков. Каждая внутренняя вершина дерева - список node длины 4: node[0] хранит индекс признака, по которому в данной вершине делается разбиение, node[1] - порог для разбиения, если i-й признак вещественный, и множество значений признака, с которыми объект попадает в левое поддерево, если i-й признак категориальный, node[2] - левое поддерево (список) и node[3] - правое поддерево (список). В листьях node состоит из единственного элемента - ответа, возвращаемого в этом листе. Пример простого дерева, разделяющего выборку по нулевому признаку по порогу 5 на два листа, возвращающих класс 0 и 1: [0, 5, [0], [1]]. Если в левом поддереве корня выполнять разделение по 1-му признаку по порогу 7: [0, 5, [1, 7, [0], [1]], [1]].\n",
    "* Внутри функции fit определяется рекурсивная функция fit_node(subX, suby, node), принимающая матрицу объекты-признаки subX и ответы на этих объектах suby, а также ссылку на пустой список node - вершину, в которой необходимо выполнить разбиение на две подвыборки. Функция fit_node должна заполнить этот список вызовами node.append(.....). Если suby состоит из одинаковых значений, нужно добавить к node это значение и выйти. Иначе выполнить перебор по всем признакам: для каждого признака с помощью функции find_best_split найти наилучшее разбиение и выбрать признак, дающий максимальное значение критерия Джини. Для категориальных признаков нужно выполнить специальное преобразование (см. семинар). Вершину нужно заполнить индексом выбранного признака, порогом или множеством значений (задающих разбиение), а затем рекурсивно вызвать fit_node для левого и правого поддерева.\n",
    "* Внутри функции predict также определяется рекурсивная функция predict_node(x, node), принимающая один объект и вершину. Она проверяет, является ли node листом (это можно определить по длине списка), если да - возвращает node[0], т. е. класс, задаваемый этим листом. Иначе функция определяет, к какому поддереву относится объект, и рекурсивно вызывает себя для этого поддерева.\n",
    "* В процессе тестирования кода может оказаться, что рекурсивные вызовы повторяются бесконечно. Так происходит, если в одно из поддеревьев попадает пустая подвыборка. Этого быть не должно: пороги, при которых все объекты попадают в одно поддерево, не рассматриваются (см. указания к функции find_best_split).\n",
    "* Дерево должно давать единичную долю верных ответов на обучающей выборке.\n",
    "* Протестировать, правильно ли выполняется преобразование категориальных признаков, можно на простой синтетической выборке с одним категориальным признаком, по которому объекты идеально делятся на два класса, и при этом такого эффекта нельзя достичь установкой порога на этот признак."
   ]
  },
  {
   "cell_type": "code",
   "execution_count": 12,
   "metadata": {
    "collapsed": true
   },
   "outputs": [],
   "source": [
    "from sklearn.base import BaseEstimator"
   ]
  },
  {
   "cell_type": "code",
   "execution_count": 13,
   "metadata": {
    "collapsed": false
   },
   "outputs": [],
   "source": [
    "### Шаблон класса, следующего рекомендациям\n",
    "class DecisionTree(BaseEstimator):\n",
    "    def __init__(self, types):\n",
    "        self._tree = []\n",
    "        self.types = types\n",
    "#         self.c = 0\n",
    "    def preprocess_cat(self, feature_vector, target_vector):\n",
    "        unique_vals = np.unique(feature_vector)\n",
    "        map_cats = { val: np.mean(target_vector[feature_vector == val]) for val in unique_vals }\n",
    "        map_cats = sorted(list(map_cats.items()), key = lambda x: x[1])\n",
    "        map_cats = {x[0] : i for i, x in enumerate(map_cats)}\n",
    "        return np.array([map_cats[x] for x in feature_vector]), map_cats\n",
    "\n",
    "\n",
    "    def fit(self, X, y):\n",
    "        def fit_node(subX, suby, node):\n",
    "            if 0 < sum(suby) < len(suby):\n",
    "                feature_imp = []\n",
    "                for i in range(len(self.types)):\n",
    "                    if self.types[i] == 1:\n",
    "                        new_features, map_cats = self.preprocess_cat(subX[:, i], suby)\n",
    "                        if len(np.unique(new_features)) > 1:\n",
    "                            feature_imp.append([i] + list(find_best_split(new_features, suby)[2:4]) + [map_cats])\n",
    "                    else:\n",
    "                        if len(np.unique(subX[:, i])) > 1:\n",
    "                            feature_imp.append([i] + list(find_best_split(subX[:, i], suby)[2:4]) + [{}])\n",
    "                feature_imp.sort(key = lambda x: x[2])                \n",
    "                node.extend((feature_imp[-1][0], feature_imp[-1][1], [], [], feature_imp[-1][3]))\n",
    "                \n",
    "                if not feature_imp[-1][3]:\n",
    "                    left_node_index = subX[:,node[0]] <= node[1]\n",
    "                    right_node_index = subX[:,node[0]] > node[1]\n",
    "                else:\n",
    "                    new_features, map_cats = self.preprocess_cat(subX[:, feature_imp[-1][0]], suby)\n",
    "                    left_node_index = new_features <= node[1]\n",
    "                    right_node_index = new_features > node[1]\n",
    "                    \n",
    "                    \n",
    "                fit_node(subX[left_node_index, :] , suby[left_node_index], node[2])\n",
    "                fit_node(subX[right_node_index, :], suby[right_node_index],node[3])\n",
    "                return\n",
    "            else:\n",
    "                node.append(suby[0])\n",
    "                return\n",
    "            \n",
    "        X = np.array(X)\n",
    "        y = np.array(y)\n",
    "        \n",
    "        fit_node(X, y, self._tree)\n",
    "\n",
    "        \n",
    "    def predict(self, X):\n",
    "        def predict_node(x, node):\n",
    "            if len(node) == 1 :\n",
    "                return node[0]\n",
    "            else:\n",
    "                x_cur = x[node[0]]\n",
    "                if node[4]:\n",
    "                    x_cur = node[4].get(x[node[0]], -1)\n",
    "\n",
    "                return predict_node(x,node[3]) if x_cur > node[1] else predict_node(x, node[2]) \n",
    "        X = np.array(X)\n",
    "        predicted = []\n",
    "        for x in X:\n",
    "            predicted.append(predict_node(x, self._tree))\n",
    "        return np.array(predicted)"
   ]
  },
  {
   "cell_type": "markdown",
   "metadata": {},
   "source": [
    "проверочка на работу категориальных штук"
   ]
  },
  {
   "cell_type": "code",
   "execution_count": 14,
   "metadata": {
    "collapsed": true
   },
   "outputs": [],
   "source": [
    "X = np.array([[1], [2], [3], [4]])\n",
    "y = np.array([0,1,0,1])"
   ]
  },
  {
   "cell_type": "code",
   "execution_count": 15,
   "metadata": {
    "collapsed": false
   },
   "outputs": [
    {
     "data": {
      "text/plain": [
       "[0, 1, [0], [1], {1: 0, 2: 2, 3: 1, 4: 3}]"
      ]
     },
     "execution_count": 15,
     "metadata": {},
     "output_type": "execute_result"
    }
   ],
   "source": [
    "my_clf = DecisionTree((np.ones(X.shape[1])))\n",
    "my_clf.fit(X, y)\n",
    "my_clf._tree"
   ]
  },
  {
   "cell_type": "code",
   "execution_count": 16,
   "metadata": {
    "collapsed": false
   },
   "outputs": [
    {
     "data": {
      "text/plain": [
       "array([0])"
      ]
     },
     "execution_count": 16,
     "metadata": {},
     "output_type": "execute_result"
    }
   ],
   "source": [
    "my_clf.predict(np.array([[1]]))"
   ]
  },
  {
   "cell_type": "code",
   "execution_count": 17,
   "metadata": {
    "collapsed": false
   },
   "outputs": [
    {
     "data": {
      "text/plain": [
       "array([0])"
      ]
     },
     "execution_count": 17,
     "metadata": {},
     "output_type": "execute_result"
    }
   ],
   "source": [
    "my_clf.predict(np.array([[3]]))"
   ]
  },
  {
   "cell_type": "code",
   "execution_count": 18,
   "metadata": {
    "collapsed": false
   },
   "outputs": [
    {
     "data": {
      "text/plain": [
       "array([1])"
      ]
     },
     "execution_count": 18,
     "metadata": {},
     "output_type": "execute_result"
    }
   ],
   "source": [
    "my_clf.predict(np.array([[2]]))"
   ]
  },
  {
   "cell_type": "code",
   "execution_count": 19,
   "metadata": {
    "collapsed": false
   },
   "outputs": [
    {
     "data": {
      "text/plain": [
       "array([1])"
      ]
     },
     "execution_count": 19,
     "metadata": {},
     "output_type": "execute_result"
    }
   ],
   "source": [
    "my_clf.predict(np.array([[4]]))"
   ]
  },
  {
   "cell_type": "markdown",
   "metadata": {},
   "source": [
    "__5__\n",
    "\n",
    "Протестируйте свое решающее дерево на датасете [mushrooms](https://archive.ics.uci.edu/ml/datasets/Mushroom). Вам нужно скачать таблицу agaricus-lepiota.data (из [Data Folder](https://archive.ics.uci.edu/ml/machine-learning-databases/mushroom/)), прочитать ее с помощью pandas, применить к каждому столбцу LabelEncoder (из sklearn), чтобы преобразовать строковые имена категорий в натуральные числа. Первый столбец - это целевая переменная (e-edible, p-poisonous) Мы будем измерять качество с помощью accuracy, так что нам не очень важно, что будет классом 1, а что - классом 0. Обучите решающее дерево на половине случайно выбранных объектов (признаки в датасете категориальные) и сделайте предсказания для оставшейся половины. Вычислите accuracy.\n",
    "\n",
    "У вас должно получиться значение accuracy, равное единице (или очень близкое к единице), и не очень глубокое дерево."
   ]
  },
  {
   "cell_type": "code",
   "execution_count": 20,
   "metadata": {
    "collapsed": false
   },
   "outputs": [],
   "source": [
    "from sklearn import preprocessing\n",
    "mushrooms = pd.read_csv('agaricus-lepiota.data', header=None)\n",
    "le = preprocessing.LabelEncoder()\n",
    "for col in mushrooms.columns :\n",
    "    le.fit(mushrooms[col])\n",
    "    mushrooms[col] = le.transform(mushrooms[col])\n",
    "target = mushrooms[0]\n",
    "mushrooms.drop(0, axis=1, inplace=True)"
   ]
  },
  {
   "cell_type": "code",
   "execution_count": 21,
   "metadata": {
    "collapsed": false
   },
   "outputs": [],
   "source": [
    "from sklearn.model_selection import train_test_split\n",
    "X_train, X_test, y_train, y_test = train_test_split(mushrooms, target, test_size=0.5, random_state=42)"
   ]
  },
  {
   "cell_type": "code",
   "execution_count": 22,
   "metadata": {
    "collapsed": false
   },
   "outputs": [],
   "source": [
    "my_clf = DecisionTree(list(np.ones(X_train.shape[1])))"
   ]
  },
  {
   "cell_type": "code",
   "execution_count": 23,
   "metadata": {
    "collapsed": false
   },
   "outputs": [],
   "source": [
    "my_clf.fit(X_train, y_train)"
   ]
  },
  {
   "cell_type": "code",
   "execution_count": 24,
   "metadata": {
    "collapsed": false
   },
   "outputs": [
    {
     "name": "stdout",
     "output_type": "stream",
     "text": [
      "1.0\n"
     ]
    }
   ],
   "source": [
    "from sklearn.metrics import accuracy_score\n",
    "print(accuracy_score(y_test, my_clf.predict(X_test)))"
   ]
  },
  {
   "cell_type": "code",
   "execution_count": 25,
   "metadata": {
    "collapsed": false
   },
   "outputs": [
    {
     "data": {
      "text/plain": [
       "[4,\n",
       " 2,\n",
       " [19,\n",
       "  7,\n",
       "  [14,\n",
       "   5,\n",
       "   [1,\n",
       "    2,\n",
       "    [0,\n",
       "     4,\n",
       "     [14,\n",
       "      4,\n",
       "      [21,\n",
       "       5,\n",
       "       [0],\n",
       "       [19, 3, [0], [1], {0: 0, 3: 2, 4: 3, 7: 4, 8: 1}],\n",
       "       {0: 0, 1: 1, 2: 6, 3: 2, 4: 3, 5: 4, 6: 5}],\n",
       "      [11, 2, [0], [1], {0: 0, 1: 3, 2: 1, 3: 2}],\n",
       "      {2: 0, 3: 1, 4: 5, 5: 2, 6: 3, 7: 4}],\n",
       "     [1],\n",
       "     {0: 4, 1: 5, 2: 2, 3: 3, 4: 0, 5: 1}],\n",
       "    [1],\n",
       "    {0: 2, 1: 3, 2: 0, 3: 1}],\n",
       "   [1],\n",
       "   {2: 0, 3: 1, 4: 5, 5: 2, 6: 3, 7: 4, 8: 6}],\n",
       "  [1],\n",
       "  {0: 0, 1: 1, 2: 2, 3: 3, 4: 4, 5: 8, 6: 5, 7: 7, 8: 6}],\n",
       " [1],\n",
       " {0: 0, 1: 3, 2: 4, 3: 1, 4: 5, 5: 2, 6: 6, 7: 7, 8: 8}]"
      ]
     },
     "execution_count": 25,
     "metadata": {},
     "output_type": "execute_result"
    }
   ],
   "source": [
    "my_clf._tree"
   ]
  },
  {
   "cell_type": "markdown",
   "metadata": {},
   "source": [
    "все вышло как и планировалось"
   ]
  },
  {
   "cell_type": "markdown",
   "metadata": {},
   "source": [
    "__6__\n",
    "\n",
    "Загрузите следующие наборы данных (напомним, что pandas умеет загружать файлы по url, в нашем случае это файл \\*.data), предварительно ознакомившись с описанием признаков и целевой переменной в каждом из них (она записаны в Data Folder, в файле *.names): \n",
    "* [mushrooms](https://archive.ics.uci.edu/ml/datasets/Mushroom) (загрузили в предыдущем пункте, классы записаны в нулевом столбце),\n",
    "* [tic-rac-toe](https://archive.ics.uci.edu/ml/datasets/Tic-Tac-Toe+Endgame) (классы записаны в последнем столбце)\n",
    "* [cars](https://archive.ics.uci.edu/ml/datasets/Car+Evaluation) (классы записаны в последнем столбце, считаем что unacc, acc - это класс 0, good, vgood - класс 1)\n",
    "* [nurcery](https://archive.ics.uci.edu/ml/datasets/Nursery) (классы записаны в последнем столбце, считаем, что not_recom и recom - класс 0, very_recom, priority, spec_prior - класс 1).\n",
    "\n",
    "Закодируйте категориальные признаки, использовав LabelEncoder. С помощью cross_val_score (cv=10) оцените accuracy на каждом из этих наборов данных следующих алгоритмов:\n",
    "* DecisionTree, считающий все признаки вещественными\n",
    "* DecisionTree, считающий все признаки категориальными\n",
    "* DecisionTree, считающий все признаки вещественными + one-hot-encoding всех признаков\n",
    "* DecisionTreeClassifier из sklearn. Запишите результат в pd.DataFrame (по строкам - наборы данных, по столбцам - алгоритмы).\n",
    "\n",
    "Рекомендации:\n",
    "* Чтобы cross_val_score вычисляла точность, нужно передать scorer=make_scorer(accuracy_score), обе фукнции из sklearn.metrics.\n",
    "* Если вам позволяет память (а она скорее всего позволяет), указывайте параметр sparse=False в OneHotEncoder (если вы, конечно, используете его). Иначе вам придется добиваться того, чтобы ваша реализация дерева умела работать с разреженными матрицами (что тоже, в целом, не очень сложно)."
   ]
  },
  {
   "cell_type": "code",
   "execution_count": 26,
   "metadata": {
    "collapsed": false
   },
   "outputs": [],
   "source": [
    "### ╰( ͡° ͜ʖ ͡° )つ──☆*:\n",
    "mushrooms = pd.read_csv('https://archive.ics.uci.edu/ml/machine-learning-databases/mushroom/agaricus-lepiota.data',header=None)\n",
    "tic_tac = pd.read_csv('https://archive.ics.uci.edu/ml/machine-learning-databases/tic-tac-toe/tic-tac-toe.data', header=None)\n",
    "cars = pd.read_csv('https://archive.ics.uci.edu/ml/machine-learning-databases/car/car.data', header=None)\n",
    "nurcery = pd.read_csv('https://archive.ics.uci.edu/ml/machine-learning-databases/nursery/nursery.data', header=None)"
   ]
  },
  {
   "cell_type": "code",
   "execution_count": 27,
   "metadata": {
    "collapsed": false
   },
   "outputs": [],
   "source": [
    "cars.loc[cars[6].isin(['unacc', 'acc']),6] = '0'\n",
    "cars.loc[cars[6].isin(['good', 'vgood']),6] = '1'"
   ]
  },
  {
   "cell_type": "code",
   "execution_count": 28,
   "metadata": {
    "collapsed": true
   },
   "outputs": [],
   "source": [
    "nurcery.loc[nurcery[8].isin(['recom', 'not_recom']),8] = '0'\n",
    "nurcery.loc[nurcery[8].isin(['very_recom','recommend', 'priority', 'spec_prior']),8] = '1'"
   ]
  },
  {
   "cell_type": "code",
   "execution_count": 29,
   "metadata": {
    "collapsed": false
   },
   "outputs": [],
   "source": [
    "from sklearn import preprocessing\n",
    "le = preprocessing.LabelEncoder()\n",
    "for data_set in [mushrooms, tic_tac, cars, nurcery]:\n",
    "    for col in data_set.columns :\n",
    "        le.fit(data_set[col])\n",
    "        data_set[col] = le.transform(data_set[col])\n"
   ]
  },
  {
   "cell_type": "code",
   "execution_count": 30,
   "metadata": {
    "collapsed": false
   },
   "outputs": [
    {
     "name": "stderr",
     "output_type": "stream",
     "text": [
      "/Library/Frameworks/Python.framework/Versions/3.4/lib/python3.4/site-packages/ipykernel/__main__.py:17: SettingWithCopyWarning: \n",
      "A value is trying to be set on a copy of a slice from a DataFrame\n",
      "\n",
      "See the the caveats in the documentation: http://pandas.pydata.org/pandas-docs/stable/indexing.html#indexing-view-versus-copy\n"
     ]
    }
   ],
   "source": [
    "from sklearn.utils import shuffle\n",
    "\n",
    "mushrooms = shuffle(mushrooms)\n",
    "y_mush = mushrooms[0]\n",
    "mushrooms.drop(0, axis=1, inplace=True)\n",
    "\n",
    "tic_tac = shuffle(tic_tac)\n",
    "y_tic = tic_tac[9]\n",
    "tic_tac.drop(9, axis=1, inplace=True)\n",
    "\n",
    "cars = shuffle(cars)\n",
    "y_cars = cars[6]\n",
    "cars.drop(6, axis=1, inplace=True)\n",
    "\n",
    "nurcery = shuffle(nurcery)\n",
    "y_nurc = nurcery[8]\n",
    "nurcery.drop(8, axis=1, inplace=True)"
   ]
  },
  {
   "cell_type": "code",
   "execution_count": 31,
   "metadata": {
    "collapsed": true
   },
   "outputs": [],
   "source": [
    "from sklearn.model_selection import cross_val_score\n",
    "from sklearn.metrics import make_scorer, accuracy_score"
   ]
  },
  {
   "cell_type": "code",
   "execution_count": 32,
   "metadata": {
    "collapsed": false
   },
   "outputs": [],
   "source": [
    "ranking = pd.DataFrame(columns=['DT_REAL', 'DT_CAT', 'DT_R_ONE', 'SKLEARN'])"
   ]
  },
  {
   "cell_type": "code",
   "execution_count": 33,
   "metadata": {
    "collapsed": false
   },
   "outputs": [],
   "source": [
    "dt_real = np.array([])\n",
    "for X,y in [(mushrooms, y_mush), (tic_tac, y_tic), (cars, y_cars), (nurcery, y_nurc)]:\n",
    "    clf = DecisionTree(np.zeros(X.shape[1]))\n",
    "    dt_real = np.concatenate([dt_real, cross_val_score(clf, X, y, scoring=make_scorer(accuracy_score), cv=10)])"
   ]
  },
  {
   "cell_type": "code",
   "execution_count": 34,
   "metadata": {
    "collapsed": false
   },
   "outputs": [],
   "source": [
    "dt_cat = np.array([])\n",
    "for X,y in [(mushrooms, y_mush), (tic_tac, y_tic), (cars, y_cars), (nurcery, y_nurc)]:\n",
    "    clf = DecisionTree(np.ones(X.shape[1]))\n",
    "    dt_cat = np.concatenate([dt_cat, cross_val_score(clf, X, y, scoring=make_scorer(accuracy_score), cv=10)])"
   ]
  },
  {
   "cell_type": "code",
   "execution_count": 35,
   "metadata": {
    "collapsed": false
   },
   "outputs": [],
   "source": [
    "dt_onehot = np.array([])\n",
    "for X,y in [(mushrooms, y_mush), (tic_tac, y_tic), (cars, y_cars), (nurcery, y_nurc)]:\n",
    "    X_with_dummies = X.copy()\n",
    "    for i in X.columns:\n",
    "        dummy = pd.get_dummies(X[i])\n",
    "        dummy.columns = [str(x) +'_' + str(1) for x in dummy.columns]\n",
    "        X_with_dummies = pd.concat([X_with_dummies, dummy], axis=1)\n",
    "    \n",
    "    clf = DecisionTree(np.concatenate([np.zeros(X.shape[1]), np.ones(X_with_dummies.shape[1] - X.shape[1])]))\n",
    "    dt_onehot = np.concatenate([dt_onehot, cross_val_score(clf, X_with_dummies, y, scoring=make_scorer(accuracy_score), cv=10)])"
   ]
  },
  {
   "cell_type": "code",
   "execution_count": 36,
   "metadata": {
    "collapsed": false
   },
   "outputs": [],
   "source": [
    "from sklearn.tree import DecisionTreeClassifier\n",
    "dt_sklearn = np.array([])\n",
    "for X,y in [(mushrooms, y_mush), (tic_tac, y_tic), (cars, y_cars), (nurcery, y_nurc)]:\n",
    "    clf = DecisionTreeClassifier()\n",
    "    dt_sklearn = np.concatenate([dt_sklearn, cross_val_score(clf, X, y, scoring=make_scorer(accuracy_score), cv=10)])"
   ]
  },
  {
   "cell_type": "code",
   "execution_count": 37,
   "metadata": {
    "collapsed": false
   },
   "outputs": [],
   "source": [
    "ranking.DT_REAL = dt_real\n",
    "ranking.DT_CAT = dt_cat\n",
    "ranking.DT_R_ONE = dt_onehot\n",
    "ranking.SKLEARN = dt_sklearn"
   ]
  },
  {
   "cell_type": "code",
   "execution_count": 38,
   "metadata": {
    "collapsed": false
   },
   "outputs": [
    {
     "data": {
      "text/html": [
       "<div style=\"max-height:1000px;max-width:1500px;overflow:auto;\">\n",
       "<table border=\"1\" class=\"dataframe\">\n",
       "  <thead>\n",
       "    <tr style=\"text-align: right;\">\n",
       "      <th></th>\n",
       "      <th>DT_REAL</th>\n",
       "      <th>DT_CAT</th>\n",
       "      <th>DT_R_ONE</th>\n",
       "      <th>SKLEARN</th>\n",
       "    </tr>\n",
       "  </thead>\n",
       "  <tbody>\n",
       "    <tr>\n",
       "      <th>0 </th>\n",
       "      <td> 1.000000</td>\n",
       "      <td> 1.000000</td>\n",
       "      <td> 1.000000</td>\n",
       "      <td> 1.000000</td>\n",
       "    </tr>\n",
       "    <tr>\n",
       "      <th>1 </th>\n",
       "      <td> 1.000000</td>\n",
       "      <td> 1.000000</td>\n",
       "      <td> 1.000000</td>\n",
       "      <td> 1.000000</td>\n",
       "    </tr>\n",
       "    <tr>\n",
       "      <th>2 </th>\n",
       "      <td> 1.000000</td>\n",
       "      <td> 1.000000</td>\n",
       "      <td> 1.000000</td>\n",
       "      <td> 1.000000</td>\n",
       "    </tr>\n",
       "    <tr>\n",
       "      <th>3 </th>\n",
       "      <td> 1.000000</td>\n",
       "      <td> 1.000000</td>\n",
       "      <td> 1.000000</td>\n",
       "      <td> 1.000000</td>\n",
       "    </tr>\n",
       "    <tr>\n",
       "      <th>4 </th>\n",
       "      <td> 1.000000</td>\n",
       "      <td> 1.000000</td>\n",
       "      <td> 1.000000</td>\n",
       "      <td> 1.000000</td>\n",
       "    </tr>\n",
       "    <tr>\n",
       "      <th>5 </th>\n",
       "      <td> 1.000000</td>\n",
       "      <td> 1.000000</td>\n",
       "      <td> 1.000000</td>\n",
       "      <td> 1.000000</td>\n",
       "    </tr>\n",
       "    <tr>\n",
       "      <th>6 </th>\n",
       "      <td> 1.000000</td>\n",
       "      <td> 1.000000</td>\n",
       "      <td> 1.000000</td>\n",
       "      <td> 1.000000</td>\n",
       "    </tr>\n",
       "    <tr>\n",
       "      <th>7 </th>\n",
       "      <td> 1.000000</td>\n",
       "      <td> 1.000000</td>\n",
       "      <td> 1.000000</td>\n",
       "      <td> 1.000000</td>\n",
       "    </tr>\n",
       "    <tr>\n",
       "      <th>8 </th>\n",
       "      <td> 1.000000</td>\n",
       "      <td> 1.000000</td>\n",
       "      <td> 1.000000</td>\n",
       "      <td> 1.000000</td>\n",
       "    </tr>\n",
       "    <tr>\n",
       "      <th>9 </th>\n",
       "      <td> 1.000000</td>\n",
       "      <td> 1.000000</td>\n",
       "      <td> 1.000000</td>\n",
       "      <td> 1.000000</td>\n",
       "    </tr>\n",
       "    <tr>\n",
       "      <th>10</th>\n",
       "      <td> 0.906250</td>\n",
       "      <td> 0.958333</td>\n",
       "      <td> 0.958333</td>\n",
       "      <td> 0.917526</td>\n",
       "    </tr>\n",
       "    <tr>\n",
       "      <th>11</th>\n",
       "      <td> 0.916667</td>\n",
       "      <td> 0.968750</td>\n",
       "      <td> 0.968750</td>\n",
       "      <td> 0.948454</td>\n",
       "    </tr>\n",
       "    <tr>\n",
       "      <th>12</th>\n",
       "      <td> 0.854167</td>\n",
       "      <td> 0.968750</td>\n",
       "      <td> 0.968750</td>\n",
       "      <td> 0.906250</td>\n",
       "    </tr>\n",
       "    <tr>\n",
       "      <th>13</th>\n",
       "      <td> 0.833333</td>\n",
       "      <td> 0.885417</td>\n",
       "      <td> 0.885417</td>\n",
       "      <td> 0.864583</td>\n",
       "    </tr>\n",
       "    <tr>\n",
       "      <th>14</th>\n",
       "      <td> 0.937500</td>\n",
       "      <td> 0.979167</td>\n",
       "      <td> 0.979167</td>\n",
       "      <td> 0.906250</td>\n",
       "    </tr>\n",
       "    <tr>\n",
       "      <th>15</th>\n",
       "      <td> 0.875000</td>\n",
       "      <td> 0.947917</td>\n",
       "      <td> 0.947917</td>\n",
       "      <td> 0.875000</td>\n",
       "    </tr>\n",
       "    <tr>\n",
       "      <th>16</th>\n",
       "      <td> 0.885417</td>\n",
       "      <td> 0.968750</td>\n",
       "      <td> 0.979167</td>\n",
       "      <td> 0.894737</td>\n",
       "    </tr>\n",
       "    <tr>\n",
       "      <th>17</th>\n",
       "      <td> 0.822917</td>\n",
       "      <td> 0.958333</td>\n",
       "      <td> 0.958333</td>\n",
       "      <td> 0.821053</td>\n",
       "    </tr>\n",
       "    <tr>\n",
       "      <th>18</th>\n",
       "      <td> 0.884211</td>\n",
       "      <td> 0.915789</td>\n",
       "      <td> 0.915789</td>\n",
       "      <td> 0.884211</td>\n",
       "    </tr>\n",
       "    <tr>\n",
       "      <th>19</th>\n",
       "      <td> 0.852632</td>\n",
       "      <td> 0.936842</td>\n",
       "      <td> 0.936842</td>\n",
       "      <td> 0.852632</td>\n",
       "    </tr>\n",
       "    <tr>\n",
       "      <th>20</th>\n",
       "      <td> 0.988439</td>\n",
       "      <td> 0.988439</td>\n",
       "      <td> 0.982659</td>\n",
       "      <td> 0.982759</td>\n",
       "    </tr>\n",
       "    <tr>\n",
       "      <th>21</th>\n",
       "      <td> 0.994220</td>\n",
       "      <td> 0.994220</td>\n",
       "      <td> 0.988439</td>\n",
       "      <td> 0.994253</td>\n",
       "    </tr>\n",
       "    <tr>\n",
       "      <th>22</th>\n",
       "      <td> 0.988439</td>\n",
       "      <td> 0.982659</td>\n",
       "      <td> 0.971098</td>\n",
       "      <td> 0.982759</td>\n",
       "    </tr>\n",
       "    <tr>\n",
       "      <th>23</th>\n",
       "      <td> 0.982659</td>\n",
       "      <td> 0.982659</td>\n",
       "      <td> 0.994220</td>\n",
       "      <td> 0.994253</td>\n",
       "    </tr>\n",
       "    <tr>\n",
       "      <th>24</th>\n",
       "      <td> 0.982659</td>\n",
       "      <td> 0.976879</td>\n",
       "      <td> 0.994220</td>\n",
       "      <td> 1.000000</td>\n",
       "    </tr>\n",
       "    <tr>\n",
       "      <th>25</th>\n",
       "      <td> 0.994220</td>\n",
       "      <td> 0.994220</td>\n",
       "      <td> 0.994220</td>\n",
       "      <td> 0.994186</td>\n",
       "    </tr>\n",
       "    <tr>\n",
       "      <th>26</th>\n",
       "      <td> 0.994220</td>\n",
       "      <td> 0.988439</td>\n",
       "      <td> 0.982659</td>\n",
       "      <td> 0.994186</td>\n",
       "    </tr>\n",
       "    <tr>\n",
       "      <th>27</th>\n",
       "      <td> 0.994220</td>\n",
       "      <td> 0.994220</td>\n",
       "      <td> 0.982659</td>\n",
       "      <td> 0.994186</td>\n",
       "    </tr>\n",
       "    <tr>\n",
       "      <th>28</th>\n",
       "      <td> 1.000000</td>\n",
       "      <td> 1.000000</td>\n",
       "      <td> 0.994186</td>\n",
       "      <td> 1.000000</td>\n",
       "    </tr>\n",
       "    <tr>\n",
       "      <th>29</th>\n",
       "      <td> 0.994186</td>\n",
       "      <td> 0.994186</td>\n",
       "      <td> 1.000000</td>\n",
       "      <td> 0.994186</td>\n",
       "    </tr>\n",
       "    <tr>\n",
       "      <th>30</th>\n",
       "      <td> 1.000000</td>\n",
       "      <td> 1.000000</td>\n",
       "      <td> 1.000000</td>\n",
       "      <td> 1.000000</td>\n",
       "    </tr>\n",
       "    <tr>\n",
       "      <th>31</th>\n",
       "      <td> 1.000000</td>\n",
       "      <td> 1.000000</td>\n",
       "      <td> 1.000000</td>\n",
       "      <td> 1.000000</td>\n",
       "    </tr>\n",
       "    <tr>\n",
       "      <th>32</th>\n",
       "      <td> 1.000000</td>\n",
       "      <td> 1.000000</td>\n",
       "      <td> 1.000000</td>\n",
       "      <td> 1.000000</td>\n",
       "    </tr>\n",
       "    <tr>\n",
       "      <th>33</th>\n",
       "      <td> 1.000000</td>\n",
       "      <td> 1.000000</td>\n",
       "      <td> 1.000000</td>\n",
       "      <td> 1.000000</td>\n",
       "    </tr>\n",
       "    <tr>\n",
       "      <th>34</th>\n",
       "      <td> 1.000000</td>\n",
       "      <td> 1.000000</td>\n",
       "      <td> 1.000000</td>\n",
       "      <td> 1.000000</td>\n",
       "    </tr>\n",
       "    <tr>\n",
       "      <th>35</th>\n",
       "      <td> 1.000000</td>\n",
       "      <td> 1.000000</td>\n",
       "      <td> 1.000000</td>\n",
       "      <td> 1.000000</td>\n",
       "    </tr>\n",
       "    <tr>\n",
       "      <th>36</th>\n",
       "      <td> 1.000000</td>\n",
       "      <td> 1.000000</td>\n",
       "      <td> 1.000000</td>\n",
       "      <td> 1.000000</td>\n",
       "    </tr>\n",
       "    <tr>\n",
       "      <th>37</th>\n",
       "      <td> 1.000000</td>\n",
       "      <td> 1.000000</td>\n",
       "      <td> 1.000000</td>\n",
       "      <td> 1.000000</td>\n",
       "    </tr>\n",
       "    <tr>\n",
       "      <th>38</th>\n",
       "      <td> 1.000000</td>\n",
       "      <td> 1.000000</td>\n",
       "      <td> 1.000000</td>\n",
       "      <td> 1.000000</td>\n",
       "    </tr>\n",
       "    <tr>\n",
       "      <th>39</th>\n",
       "      <td> 1.000000</td>\n",
       "      <td> 1.000000</td>\n",
       "      <td> 1.000000</td>\n",
       "      <td> 1.000000</td>\n",
       "    </tr>\n",
       "  </tbody>\n",
       "</table>\n",
       "</div>"
      ],
      "text/plain": [
       "     DT_REAL    DT_CAT  DT_R_ONE   SKLEARN\n",
       "0   1.000000  1.000000  1.000000  1.000000\n",
       "1   1.000000  1.000000  1.000000  1.000000\n",
       "2   1.000000  1.000000  1.000000  1.000000\n",
       "3   1.000000  1.000000  1.000000  1.000000\n",
       "4   1.000000  1.000000  1.000000  1.000000\n",
       "5   1.000000  1.000000  1.000000  1.000000\n",
       "6   1.000000  1.000000  1.000000  1.000000\n",
       "7   1.000000  1.000000  1.000000  1.000000\n",
       "8   1.000000  1.000000  1.000000  1.000000\n",
       "9   1.000000  1.000000  1.000000  1.000000\n",
       "10  0.906250  0.958333  0.958333  0.917526\n",
       "11  0.916667  0.968750  0.968750  0.948454\n",
       "12  0.854167  0.968750  0.968750  0.906250\n",
       "13  0.833333  0.885417  0.885417  0.864583\n",
       "14  0.937500  0.979167  0.979167  0.906250\n",
       "15  0.875000  0.947917  0.947917  0.875000\n",
       "16  0.885417  0.968750  0.979167  0.894737\n",
       "17  0.822917  0.958333  0.958333  0.821053\n",
       "18  0.884211  0.915789  0.915789  0.884211\n",
       "19  0.852632  0.936842  0.936842  0.852632\n",
       "20  0.988439  0.988439  0.982659  0.982759\n",
       "21  0.994220  0.994220  0.988439  0.994253\n",
       "22  0.988439  0.982659  0.971098  0.982759\n",
       "23  0.982659  0.982659  0.994220  0.994253\n",
       "24  0.982659  0.976879  0.994220  1.000000\n",
       "25  0.994220  0.994220  0.994220  0.994186\n",
       "26  0.994220  0.988439  0.982659  0.994186\n",
       "27  0.994220  0.994220  0.982659  0.994186\n",
       "28  1.000000  1.000000  0.994186  1.000000\n",
       "29  0.994186  0.994186  1.000000  0.994186\n",
       "30  1.000000  1.000000  1.000000  1.000000\n",
       "31  1.000000  1.000000  1.000000  1.000000\n",
       "32  1.000000  1.000000  1.000000  1.000000\n",
       "33  1.000000  1.000000  1.000000  1.000000\n",
       "34  1.000000  1.000000  1.000000  1.000000\n",
       "35  1.000000  1.000000  1.000000  1.000000\n",
       "36  1.000000  1.000000  1.000000  1.000000\n",
       "37  1.000000  1.000000  1.000000  1.000000\n",
       "38  1.000000  1.000000  1.000000  1.000000\n",
       "39  1.000000  1.000000  1.000000  1.000000"
      ]
     },
     "execution_count": 38,
     "metadata": {},
     "output_type": "execute_result"
    }
   ],
   "source": [
    "ranking"
   ]
  },
  {
   "cell_type": "markdown",
   "metadata": {},
   "source": [
    "__7__\n",
    "\n",
    "Проанализируйте результаты эксперимента. \n",
    "Одинаково ли для разных наборов данных ранжируются алгоритмы? \n",
    "Порассуждайте, почему так происходит. \n",
    "\n",
    "Обратите внимание на значение признаков в разных наборах данных. \n",
    "Присутствует ли в результатах какая-то компонента случайности? \n",
    "Можно ли повлиять на нее и улушить работу алгоритмов?"
   ]
  },
  {
   "cell_type": "markdown",
   "metadata": {},
   "source": [
    "Ранжирование в среднем примерно одинаковое, но не всегда совпадает на 100%.\n",
    "Я думаю что все зависит от особенностей данных, например категории могут быть сами по себе бессмысленными, а вот их упорядоченность относительно друг друга важна.\n",
    "\n",
    "\n",
    "Например если несколько признаков имеет одинаковый скор, то можно вместо случайного (первого) из них можно было бы пытаться делать сплит по их совокупности"
   ]
  },
  {
   "cell_type": "markdown",
   "metadata": {
    "collapsed": true
   },
   "source": [
    "### II. Композиции деревьев\n",
    "#### Задача 2. Сравнение композиционных методов над решающими деревьями\n",
    "__8 (1 балл)__\n",
    "\n",
    "Выполните следующие шаги:\n",
    "1. Загрузите датасет [winequality-red.csv](https://archive.ics.uci.edu/ml/machine-learning-databases/wine-quality/winequality-red.csv) в датафрейм. Последний столбец - целевая переменная (содержит классы).\n",
    "1. С помощью cross_val_score с cv=3 оцените качество (accuracy) следующих классификаторов:\n",
    "    * DecisionTreeClassifier\n",
    "    * BaggingClassifier со 100 деревьями\n",
    "    * BaggingClassifier со 100 деревьями; каждое дерево обучается только по половине случайно выбранных признаков (см. параметры метода)\n",
    "    * RandomForestClassifier со 100 деревьями\n",
    "    \n",
    "Значение получается шумное, но в целом у вас должно получиться, что качество возрастает с каждым следующим алгоритмом. Этот пример демонстрирует, что RandomForest - это более сложный алгоритм, чем бэггинг и бэггинг со случайными подпространствами. "
   ]
  },
  {
   "cell_type": "code",
   "execution_count": 54,
   "metadata": {
    "collapsed": false
   },
   "outputs": [
    {
     "data": {
      "text/html": [
       "<div style=\"max-height:1000px;max-width:1500px;overflow:auto;\">\n",
       "<table border=\"1\" class=\"dataframe\">\n",
       "  <thead>\n",
       "    <tr style=\"text-align: right;\">\n",
       "      <th></th>\n",
       "      <th>fixed acidity</th>\n",
       "      <th>volatile acidity</th>\n",
       "      <th>citric acid</th>\n",
       "      <th>residual sugar</th>\n",
       "      <th>chlorides</th>\n",
       "      <th>free sulfur dioxide</th>\n",
       "      <th>total sulfur dioxide</th>\n",
       "      <th>density</th>\n",
       "      <th>pH</th>\n",
       "      <th>sulphates</th>\n",
       "      <th>alcohol</th>\n",
       "      <th>quality</th>\n",
       "    </tr>\n",
       "  </thead>\n",
       "  <tbody>\n",
       "    <tr>\n",
       "      <th>0</th>\n",
       "      <td>  7.4</td>\n",
       "      <td> 0.70</td>\n",
       "      <td> 0.00</td>\n",
       "      <td> 1.9</td>\n",
       "      <td> 0.076</td>\n",
       "      <td> 11</td>\n",
       "      <td> 34</td>\n",
       "      <td> 0.9978</td>\n",
       "      <td> 3.51</td>\n",
       "      <td> 0.56</td>\n",
       "      <td> 9.4</td>\n",
       "      <td> 5</td>\n",
       "    </tr>\n",
       "    <tr>\n",
       "      <th>1</th>\n",
       "      <td>  7.8</td>\n",
       "      <td> 0.88</td>\n",
       "      <td> 0.00</td>\n",
       "      <td> 2.6</td>\n",
       "      <td> 0.098</td>\n",
       "      <td> 25</td>\n",
       "      <td> 67</td>\n",
       "      <td> 0.9968</td>\n",
       "      <td> 3.20</td>\n",
       "      <td> 0.68</td>\n",
       "      <td> 9.8</td>\n",
       "      <td> 5</td>\n",
       "    </tr>\n",
       "    <tr>\n",
       "      <th>2</th>\n",
       "      <td>  7.8</td>\n",
       "      <td> 0.76</td>\n",
       "      <td> 0.04</td>\n",
       "      <td> 2.3</td>\n",
       "      <td> 0.092</td>\n",
       "      <td> 15</td>\n",
       "      <td> 54</td>\n",
       "      <td> 0.9970</td>\n",
       "      <td> 3.26</td>\n",
       "      <td> 0.65</td>\n",
       "      <td> 9.8</td>\n",
       "      <td> 5</td>\n",
       "    </tr>\n",
       "    <tr>\n",
       "      <th>3</th>\n",
       "      <td> 11.2</td>\n",
       "      <td> 0.28</td>\n",
       "      <td> 0.56</td>\n",
       "      <td> 1.9</td>\n",
       "      <td> 0.075</td>\n",
       "      <td> 17</td>\n",
       "      <td> 60</td>\n",
       "      <td> 0.9980</td>\n",
       "      <td> 3.16</td>\n",
       "      <td> 0.58</td>\n",
       "      <td> 9.8</td>\n",
       "      <td> 6</td>\n",
       "    </tr>\n",
       "    <tr>\n",
       "      <th>4</th>\n",
       "      <td>  7.4</td>\n",
       "      <td> 0.70</td>\n",
       "      <td> 0.00</td>\n",
       "      <td> 1.9</td>\n",
       "      <td> 0.076</td>\n",
       "      <td> 11</td>\n",
       "      <td> 34</td>\n",
       "      <td> 0.9978</td>\n",
       "      <td> 3.51</td>\n",
       "      <td> 0.56</td>\n",
       "      <td> 9.4</td>\n",
       "      <td> 5</td>\n",
       "    </tr>\n",
       "  </tbody>\n",
       "</table>\n",
       "</div>"
      ],
      "text/plain": [
       "   fixed acidity  volatile acidity  citric acid  residual sugar  chlorides  \\\n",
       "0            7.4              0.70         0.00             1.9      0.076   \n",
       "1            7.8              0.88         0.00             2.6      0.098   \n",
       "2            7.8              0.76         0.04             2.3      0.092   \n",
       "3           11.2              0.28         0.56             1.9      0.075   \n",
       "4            7.4              0.70         0.00             1.9      0.076   \n",
       "\n",
       "   free sulfur dioxide  total sulfur dioxide  density    pH  sulphates  \\\n",
       "0                   11                    34   0.9978  3.51       0.56   \n",
       "1                   25                    67   0.9968  3.20       0.68   \n",
       "2                   15                    54   0.9970  3.26       0.65   \n",
       "3                   17                    60   0.9980  3.16       0.58   \n",
       "4                   11                    34   0.9978  3.51       0.56   \n",
       "\n",
       "   alcohol  quality  \n",
       "0      9.4        5  \n",
       "1      9.8        5  \n",
       "2      9.8        5  \n",
       "3      9.8        6  \n",
       "4      9.4        5  "
      ]
     },
     "execution_count": 54,
     "metadata": {},
     "output_type": "execute_result"
    }
   ],
   "source": [
    "### ╰( ͡° ͜ʖ ͡° )つ──☆*:・ﾟ\n",
    "wine = pd.read_csv('https://archive.ics.uci.edu/ml/machine-learning-databases/wine-quality/winequality-red.csv', delimiter=';')\n",
    "wine[:5]"
   ]
  },
  {
   "cell_type": "code",
   "execution_count": 56,
   "metadata": {
    "collapsed": true
   },
   "outputs": [],
   "source": [
    "from sklearn.ensemble import BaggingClassifier, RandomForestClassifier\n",
    "from sklearn.tree import DecisionTreeClassifier"
   ]
  },
  {
   "cell_type": "code",
   "execution_count": 59,
   "metadata": {
    "collapsed": false
   },
   "outputs": [],
   "source": [
    "c = wine.columns.difference(['quality'])"
   ]
  },
  {
   "cell_type": "code",
   "execution_count": 69,
   "metadata": {
    "collapsed": false
   },
   "outputs": [
    {
     "data": {
      "text/plain": [
       "array([ 0.45233645,  0.42589118,  0.48399247])"
      ]
     },
     "execution_count": 69,
     "metadata": {},
     "output_type": "execute_result"
    }
   ],
   "source": [
    "cross_val_score(DecisionTreeClassifier(), wine[c], wine['quality'], scoring=make_scorer(accuracy_score), cv=3)"
   ]
  },
  {
   "cell_type": "code",
   "execution_count": 70,
   "metadata": {
    "collapsed": false
   },
   "outputs": [
    {
     "data": {
      "text/plain": [
       "array([ 0.45981308,  0.46341463,  0.48022599])"
      ]
     },
     "execution_count": 70,
     "metadata": {},
     "output_type": "execute_result"
    }
   ],
   "source": [
    "clf = BaggingClassifier(DecisionTreeClassifier(), n_estimators=100, max_features=1)\n",
    "cross_val_score(clf, wine[c], wine['quality'], scoring=make_scorer(accuracy_score), cv=3)"
   ]
  },
  {
   "cell_type": "code",
   "execution_count": 71,
   "metadata": {
    "collapsed": false
   },
   "outputs": [
    {
     "data": {
      "text/plain": [
       "array([ 0.52149533,  0.55909944,  0.56497175])"
      ]
     },
     "execution_count": 71,
     "metadata": {},
     "output_type": "execute_result"
    }
   ],
   "source": [
    "clf = BaggingClassifier(DecisionTreeClassifier(), n_estimators=100, max_features=0.5)\n",
    "cross_val_score(clf, wine[c], wine['quality'], scoring=make_scorer(accuracy_score), cv=3)"
   ]
  },
  {
   "cell_type": "code",
   "execution_count": 72,
   "metadata": {
    "collapsed": false
   },
   "outputs": [
    {
     "data": {
      "text/plain": [
       "array([ 0.53457944,  0.56285178,  0.5819209 ])"
      ]
     },
     "execution_count": 72,
     "metadata": {},
     "output_type": "execute_result"
    }
   ],
   "source": [
    "clf = RandomForestClassifier(n_estimators=100)\n",
    "cross_val_score(clf, wine[c], wine['quality'], scoring=make_scorer(accuracy_score), cv=3)"
   ]
  },
  {
   "cell_type": "markdown",
   "metadata": {},
   "source": [
    "все как и предсказывалось"
   ]
  },
  {
   "cell_type": "markdown",
   "metadata": {},
   "source": [
    "#### Задача 3. Число деревьев в случайном лесе и в градиентном бустинге\n",
    "В этой задаче мы рассмотрим, переобучаются ли композиционные алгоритмы с увеличением числа деревьев.\n",
    "\n",
    "__9__\n",
    "\n",
    "Продолжим работать с набором данных [winequality-red.csv](https://archive.ics.uci.edu/ml/machine-learning-databases/wine-quality/winequality-red.csv). Разделите выборку на обучение и контроль с пропорции 7:3, предварительно перемешав объекты. Переберите значения от 100 до 5000 деревьев с шагом 10, посчитайте accuracy на тестовой выборке для каждого числа деревьев и постройте график зависимости качества от числа деревьев.\n",
    "\n",
    "Рекомендация.\n",
    "\n",
    "Если каждый раз обучать RandomForest с нуля, придётся обучить в общей сумме $10 + 20 + \\ldots + 5000$ деревьев.\n",
    "Однако, как мы знаем, деревья в случайных лесах строятся независимо и параллельно, поэтому можно обучить всего 5000 деревьев.\n",
    "\n",
    "Для этого в при создании объекта класса RandomForestClassifier нужно указать в том числе warm_start=True. Затем обучить алгоритм с помощью метода fit, использовать метод predict для классификации. После этого с помощью метода set_params изменить параметр n_estimators. Если к полученному объекту применить метод fit, внутри него будет обучаться только недостающее число деревьев.\n",
    "\n",
    "Переобучается ли случайный лес с увеличением числа деревьев?"
   ]
  },
  {
   "cell_type": "code",
   "execution_count": 73,
   "metadata": {
    "collapsed": true
   },
   "outputs": [],
   "source": [
    "### ╰( ͡° ͜ʖ ͡° )つ──☆*:・ﾟ\n",
    "from sklearn.utils import shuffle\n",
    "wine = shuffle(wine)"
   ]
  },
  {
   "cell_type": "code",
   "execution_count": 74,
   "metadata": {
    "collapsed": true
   },
   "outputs": [],
   "source": [
    "from sklearn.model_selection import train_test_split\n",
    "X_train, X_test, y_train, y_test = train_test_split(wine[c], wine['quality'], test_size=0.3, random_state=42)"
   ]
  },
  {
   "cell_type": "code",
   "execution_count": 75,
   "metadata": {
    "collapsed": true
   },
   "outputs": [],
   "source": [
    "clf = RandomForestClassifier(n_estimators=10)"
   ]
  },
  {
   "cell_type": "code",
   "execution_count": 77,
   "metadata": {
    "collapsed": true
   },
   "outputs": [],
   "source": [
    "my_list = []"
   ]
  },
  {
   "cell_type": "code",
   "execution_count": 78,
   "metadata": {
    "collapsed": false
   },
   "outputs": [
    {
     "name": "stderr",
     "output_type": "stream",
     "text": [
      "/Library/Frameworks/Python.framework/Versions/3.4/lib/python3.4/site-packages/sklearn/ensemble/forest.py:303: UserWarning: Warm-start fitting without increasing n_estimators does not fit new trees.\n",
      "  warn(\"Warm-start fitting without increasing n_estimators does not \"\n"
     ]
    }
   ],
   "source": [
    "for n in range(10, 5010, 10):\n",
    "    _ = clf.set_params(n_estimators=n, warm_start=True)  # set warm_start and new nr of trees\n",
    "    _ = clf.fit(X_train, y_train) # fit additional 100 trees to est\n",
    "    my_list += [accuracy_score(y_test, clf.predict(X_test))]"
   ]
  },
  {
   "cell_type": "code",
   "execution_count": 83,
   "metadata": {
    "collapsed": false
   },
   "outputs": [
    {
     "data": {
      "text/plain": [
       "<matplotlib.text.Text at 0x10f55aeb8>"
      ]
     },
     "execution_count": 83,
     "metadata": {},
     "output_type": "execute_result"
    },
    {
     "data": {
      "image/png": "[encoded data removed]",
      "text/plain": [
       "<matplotlib.figure.Figure at 0x10f7aaef0>"
      ]
     },
     "metadata": {},
     "output_type": "display_data"
    }
   ],
   "source": [
    "fig = plt.figure(num=None, figsize=(10, 10), dpi=80, facecolor='w', edgecolor='k')\n",
    "plt.plot( list(range(10, 5010, 10)), my_list, '-', lw=2,label = i)\n",
    "\n",
    "plt.legend( loc='best', fontsize = 15)\n",
    "plt.xlabel('n estimators', fontsize= 15)\n",
    "plt.ylabel('Accuracy ', fontsize=21)"
   ]
  },
  {
   "cell_type": "markdown",
   "metadata": {},
   "source": [
    "нет, он выходит на асимптоту."
   ]
  },
  {
   "cell_type": "markdown",
   "metadata": {},
   "source": [
    "Здесь вы можете поделиться мыслями о задании."
   ]
  },
  {
   "cell_type": "markdown",
   "metadata": {},
   "source": [
    "Наверное лучше сразу писать деревья как минимум с регулируемой глубиной, возможно было бы интересно написать и свой лес.\n",
    "\n",
    "Пунктик с векторизацией мне понравился, подумать чуток пришлось, вместо того чтобы бездумно плодить циклы ;)"
   ]
  },
  {
   "cell_type": "markdown",
   "metadata": {},
   "source": [
    "А здесь — вставить нарисованную вами смешную картинку."
   ]
  },
  {
   "cell_type": "markdown",
   "metadata": {},
   "source": []
  }
 ],
 "metadata": {
  "kernelspec": {
   "display_name": "Python 3",
   "language": "python",
   "name": "python3"
  },
  "language_info": {
   "codemirror_mode": {
    "name": "ipython",
    "version": 3
   },
   "file_extension": ".py",
   "mimetype": "text/x-python",
   "name": "python",
   "nbconvert_exporter": "python",
   "pygments_lexer": "ipython3",
   "version": "3.4.2"
  }
 },
 "nbformat": 4,
 "nbformat_minor": 0
}
